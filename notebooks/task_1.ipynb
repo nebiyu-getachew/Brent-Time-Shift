{
 "cells": [
  {
   "cell_type": "markdown",
   "metadata": {},
   "source": [
    "# **Task 1**\n",
    "# **Defining the Data Analysis Workflow** and **Understanding the Model and Data**"
   ]
  },
  {
   "cell_type": "code",
   "execution_count": 1,
   "metadata": {},
   "outputs": [
    {
     "data": {
      "text/plain": [
       "<Figure size 1200x500 with 0 Axes>"
      ]
     },
     "execution_count": 1,
     "metadata": {},
     "output_type": "execute_result"
    },
    {
     "data": {
      "text/plain": [
       "<Figure size 1200x500 with 0 Axes>"
      ]
     },
     "metadata": {},
     "output_type": "display_data"
    }
   ],
   "source": [
    "# Import necessary libraries\n",
    "import pandas as pd\n",
    "import numpy as np\n",
    "import matplotlib.pyplot as plt\n",
    "import seaborn as sns\n",
    "import os, sys\n",
    "\n",
    "# Add the 'scripts' directory to the Python path for module imports\n",
    "sys.path.append(os.path.abspath(os.path.join('..', 'scripts')))\n",
    "\n",
    "# Set max rows and columns to display\n",
    "pd.set_option('display.max_columns', 200)\n",
    "pd.set_option('display.max_rows', 200)\n",
    "\n",
    "# Configure logging\n",
    "from logger import SetupLogger\n",
    "# Assuming this class is defined in scripts/\n",
    "from preprocess import DataPreprocessor\n",
    "\n",
    "logger = SetupLogger(log_file='../logs/notebooks.log').get_logger()\n",
    "\n",
    "# Set figure size\n",
    "plt.figure(figsize=(12, 5))"
   ]
  },
  {
   "cell_type": "markdown",
   "metadata": {},
   "source": [
    "# Load the data"
   ]
  },
  {
   "cell_type": "code",
   "execution_count": 2,
   "metadata": {},
   "outputs": [
    {
     "name": "stderr",
     "output_type": "stream",
     "text": [
      "Downloading...\n",
      "From: https://drive.google.com/uc?export=download&id=1y9yWa296W108gvUC5RMiB51-yszgNc97\n",
      "To: /home/neba/Desktop/Data_Engineering/KAMI/Week-10/Brent-Time-Shift/data/data.csv\n",
      "100%|██████████| 156k/156k [00:00<00:00, 218kB/s]\n",
      "/home/neba/Desktop/Data_Engineering/KAMI/Week-10/Brent-Time-Shift/scripts/preprocess.py:51: UserWarning: Could not infer format, so each element will be parsed individually, falling back to `dateutil`. To ensure parsing is consistent and as-expected, please specify a format.\n",
      "  self.data['Date'] = pd.to_datetime(self.data['Date'].str.strip(),  errors='coerce')\n"
     ]
    }
   ],
   "source": [
    "# Set google drive url for loading the dataset\n",
    "url = 'https://drive.google.com/file/d/1y9yWa296W108gvUC5RMiB51-yszgNc97/view?usp=sharing'\n",
    "\n",
    "# Setup the data preprocessor class\n",
    "processor = DataPreprocessor(url, logger=logger)\n",
    "# Load the data\n",
    "price_data = processor.load_data()"
   ]
  },
  {
   "cell_type": "markdown",
   "metadata": {},
   "source": [
    "# Explore the data"
   ]
  },
  {
   "cell_type": "code",
   "execution_count": 3,
   "metadata": {},
   "outputs": [
    {
     "data": {
      "text/html": [
       "<div>\n",
       "<style scoped>\n",
       "    .dataframe tbody tr th:only-of-type {\n",
       "        vertical-align: middle;\n",
       "    }\n",
       "\n",
       "    .dataframe tbody tr th {\n",
       "        vertical-align: top;\n",
       "    }\n",
       "\n",
       "    .dataframe thead th {\n",
       "        text-align: right;\n",
       "    }\n",
       "</style>\n",
       "<table border=\"1\" class=\"dataframe\">\n",
       "  <thead>\n",
       "    <tr style=\"text-align: right;\">\n",
       "      <th></th>\n",
       "      <th>Date</th>\n",
       "      <th>Price</th>\n",
       "    </tr>\n",
       "  </thead>\n",
       "  <tbody>\n",
       "    <tr>\n",
       "      <th>0</th>\n",
       "      <td>1987-05-20</td>\n",
       "      <td>18.63</td>\n",
       "    </tr>\n",
       "    <tr>\n",
       "      <th>1</th>\n",
       "      <td>1987-05-21</td>\n",
       "      <td>18.45</td>\n",
       "    </tr>\n",
       "    <tr>\n",
       "      <th>2</th>\n",
       "      <td>1987-05-22</td>\n",
       "      <td>18.55</td>\n",
       "    </tr>\n",
       "    <tr>\n",
       "      <th>3</th>\n",
       "      <td>1987-05-25</td>\n",
       "      <td>18.60</td>\n",
       "    </tr>\n",
       "    <tr>\n",
       "      <th>4</th>\n",
       "      <td>1987-05-26</td>\n",
       "      <td>18.63</td>\n",
       "    </tr>\n",
       "    <tr>\n",
       "      <th>5</th>\n",
       "      <td>1987-05-27</td>\n",
       "      <td>18.60</td>\n",
       "    </tr>\n",
       "    <tr>\n",
       "      <th>6</th>\n",
       "      <td>1987-05-28</td>\n",
       "      <td>18.60</td>\n",
       "    </tr>\n",
       "    <tr>\n",
       "      <th>7</th>\n",
       "      <td>1987-05-29</td>\n",
       "      <td>18.58</td>\n",
       "    </tr>\n",
       "    <tr>\n",
       "      <th>8</th>\n",
       "      <td>1987-06-01</td>\n",
       "      <td>18.65</td>\n",
       "    </tr>\n",
       "    <tr>\n",
       "      <th>9</th>\n",
       "      <td>1987-06-02</td>\n",
       "      <td>18.68</td>\n",
       "    </tr>\n",
       "  </tbody>\n",
       "</table>\n",
       "</div>"
      ],
      "text/plain": [
       "        Date  Price\n",
       "0 1987-05-20  18.63\n",
       "1 1987-05-21  18.45\n",
       "2 1987-05-22  18.55\n",
       "3 1987-05-25  18.60\n",
       "4 1987-05-26  18.63\n",
       "5 1987-05-27  18.60\n",
       "6 1987-05-28  18.60\n",
       "7 1987-05-29  18.58\n",
       "8 1987-06-01  18.65\n",
       "9 1987-06-02  18.68"
      ]
     },
     "execution_count": 3,
     "metadata": {},
     "output_type": "execute_result"
    }
   ],
   "source": [
    "# Explore the first 10 rows\n",
    "price_data.head(10)"
   ]
  },
  {
   "cell_type": "code",
   "execution_count": 4,
   "metadata": {},
   "outputs": [
    {
     "data": {
      "text/html": [
       "<div>\n",
       "<style scoped>\n",
       "    .dataframe tbody tr th:only-of-type {\n",
       "        vertical-align: middle;\n",
       "    }\n",
       "\n",
       "    .dataframe tbody tr th {\n",
       "        vertical-align: top;\n",
       "    }\n",
       "\n",
       "    .dataframe thead th {\n",
       "        text-align: right;\n",
       "    }\n",
       "</style>\n",
       "<table border=\"1\" class=\"dataframe\">\n",
       "  <thead>\n",
       "    <tr style=\"text-align: right;\">\n",
       "      <th></th>\n",
       "      <th>Date</th>\n",
       "      <th>Price</th>\n",
       "    </tr>\n",
       "  </thead>\n",
       "  <tbody>\n",
       "    <tr>\n",
       "      <th>9001</th>\n",
       "      <td>2022-11-01</td>\n",
       "      <td>95.12</td>\n",
       "    </tr>\n",
       "    <tr>\n",
       "      <th>9002</th>\n",
       "      <td>2022-11-02</td>\n",
       "      <td>96.07</td>\n",
       "    </tr>\n",
       "    <tr>\n",
       "      <th>9003</th>\n",
       "      <td>2022-11-03</td>\n",
       "      <td>95.29</td>\n",
       "    </tr>\n",
       "    <tr>\n",
       "      <th>9004</th>\n",
       "      <td>2022-11-04</td>\n",
       "      <td>99.53</td>\n",
       "    </tr>\n",
       "    <tr>\n",
       "      <th>9005</th>\n",
       "      <td>2022-11-07</td>\n",
       "      <td>99.87</td>\n",
       "    </tr>\n",
       "    <tr>\n",
       "      <th>9006</th>\n",
       "      <td>2022-11-08</td>\n",
       "      <td>96.85</td>\n",
       "    </tr>\n",
       "    <tr>\n",
       "      <th>9007</th>\n",
       "      <td>2022-11-09</td>\n",
       "      <td>93.05</td>\n",
       "    </tr>\n",
       "    <tr>\n",
       "      <th>9008</th>\n",
       "      <td>2022-11-10</td>\n",
       "      <td>94.25</td>\n",
       "    </tr>\n",
       "    <tr>\n",
       "      <th>9009</th>\n",
       "      <td>2022-11-11</td>\n",
       "      <td>96.37</td>\n",
       "    </tr>\n",
       "    <tr>\n",
       "      <th>9010</th>\n",
       "      <td>2022-11-14</td>\n",
       "      <td>93.59</td>\n",
       "    </tr>\n",
       "  </tbody>\n",
       "</table>\n",
       "</div>"
      ],
      "text/plain": [
       "           Date  Price\n",
       "9001 2022-11-01  95.12\n",
       "9002 2022-11-02  96.07\n",
       "9003 2022-11-03  95.29\n",
       "9004 2022-11-04  99.53\n",
       "9005 2022-11-07  99.87\n",
       "9006 2022-11-08  96.85\n",
       "9007 2022-11-09  93.05\n",
       "9008 2022-11-10  94.25\n",
       "9009 2022-11-11  96.37\n",
       "9010 2022-11-14  93.59"
      ]
     },
     "execution_count": 4,
     "metadata": {},
     "output_type": "execute_result"
    }
   ],
   "source": [
    "# Explore the last 10 rows\n",
    "price_data.tail(10)"
   ]
  },
  {
   "cell_type": "markdown",
   "metadata": {},
   "source": [
    "# Create Event Dataset collected from various sources"
   ]
  },
  {
   "cell_type": "code",
   "execution_count": 5,
   "metadata": {},
   "outputs": [],
   "source": [
    "# Define the events dictionary\n",
    "events_dict = {\n",
    "    \"Gulf War (1990-1991)\": {\"start\": \"1990-08-02\", \"end\": \"1991-02-28\"},\n",
    "    \"September 11 Attacks (2001)\": {\"start\": \"2001-09-11\", \"end\": \"2001-09-11\"},\n",
    "    \"2003 Invasion of Iraq\": {\"start\": \"2003-03-20\", \"end\": \"2011-12-18\"},\n",
    "    \"2008 Financial Crisis\": {\"start\": \"2008-09-15\", \"end\": \"2009-07-01\"},\n",
    "    \"Arab Spring (2010-2012)\": {\"start\": \"2010-12-18\", \"end\": \"2012-12-18\"},\n",
    "    \"Libyan Civil War (2011)\": {\"start\": \"2011-02-15\", \"end\": \"2011-10-23\"},\n",
    "    \"U.S. Shale Oil Boom (2010s)\": {\"start\": \"2010-01-01\", \"end\": \"2019-12-31\"},\n",
    "    \"OPEC Production Cuts (2016-2017)\": {\"start\": \"2016-11-30\", \"end\": \"2017-06-30\"},\n",
    "    \"Iran Nuclear Deal and Sanctions (2015-2018)\": {\"start\": \"2015-07-14\", \"end\": \"2018-05-07\"},\n",
    "    \"COVID-19 Pandemic (2020)\": {\"start\": \"2020-03-11\", \"end\": \"2022-09-30\"},\n",
    "    \"OPEC+ Response to COVID-19 (2020)\": {\"start\": \"2020-04-09\", \"end\": \"2020-12-31\"},\n",
    "    \"Russia-Ukraine Conflict (2022)\": {\"start\": \"2022-02-24\", \"end\": \"2022-09-30\"},\n",
    "    \"Global Economic Recovery (2021-2022)\": {\"start\": \"2021-01-01\", \"end\": \"2022-09-30\"}\n",
    "}\n",
    "\n",
    "# Convert the events dictionary to a DataFrame\n",
    "events_data = pd.DataFrame.from_dict(events_dict, orient='index')\n",
    "events_data.reset_index(inplace=True)\n",
    "events_data.columns = ['Event', 'Start', 'End']\n",
    "\n",
    "# Convert Start and End to datetime\n",
    "events_data['Start'] = pd.to_datetime(events_data['Start'])\n",
    "events_data['End'] = pd.to_datetime(events_data['End'])"
   ]
  },
  {
   "cell_type": "code",
   "execution_count": 6,
   "metadata": {},
   "outputs": [
    {
     "data": {
      "text/html": [
       "<div>\n",
       "<style scoped>\n",
       "    .dataframe tbody tr th:only-of-type {\n",
       "        vertical-align: middle;\n",
       "    }\n",
       "\n",
       "    .dataframe tbody tr th {\n",
       "        vertical-align: top;\n",
       "    }\n",
       "\n",
       "    .dataframe thead th {\n",
       "        text-align: right;\n",
       "    }\n",
       "</style>\n",
       "<table border=\"1\" class=\"dataframe\">\n",
       "  <thead>\n",
       "    <tr style=\"text-align: right;\">\n",
       "      <th></th>\n",
       "      <th>Event</th>\n",
       "      <th>Start</th>\n",
       "      <th>End</th>\n",
       "    </tr>\n",
       "  </thead>\n",
       "  <tbody>\n",
       "    <tr>\n",
       "      <th>0</th>\n",
       "      <td>Gulf War (1990-1991)</td>\n",
       "      <td>1990-08-02</td>\n",
       "      <td>1991-02-28</td>\n",
       "    </tr>\n",
       "    <tr>\n",
       "      <th>1</th>\n",
       "      <td>September 11 Attacks (2001)</td>\n",
       "      <td>2001-09-11</td>\n",
       "      <td>2001-09-11</td>\n",
       "    </tr>\n",
       "    <tr>\n",
       "      <th>2</th>\n",
       "      <td>2003 Invasion of Iraq</td>\n",
       "      <td>2003-03-20</td>\n",
       "      <td>2011-12-18</td>\n",
       "    </tr>\n",
       "    <tr>\n",
       "      <th>3</th>\n",
       "      <td>2008 Financial Crisis</td>\n",
       "      <td>2008-09-15</td>\n",
       "      <td>2009-07-01</td>\n",
       "    </tr>\n",
       "    <tr>\n",
       "      <th>4</th>\n",
       "      <td>Arab Spring (2010-2012)</td>\n",
       "      <td>2010-12-18</td>\n",
       "      <td>2012-12-18</td>\n",
       "    </tr>\n",
       "    <tr>\n",
       "      <th>5</th>\n",
       "      <td>Libyan Civil War (2011)</td>\n",
       "      <td>2011-02-15</td>\n",
       "      <td>2011-10-23</td>\n",
       "    </tr>\n",
       "    <tr>\n",
       "      <th>6</th>\n",
       "      <td>U.S. Shale Oil Boom (2010s)</td>\n",
       "      <td>2010-01-01</td>\n",
       "      <td>2019-12-31</td>\n",
       "    </tr>\n",
       "    <tr>\n",
       "      <th>7</th>\n",
       "      <td>OPEC Production Cuts (2016-2017)</td>\n",
       "      <td>2016-11-30</td>\n",
       "      <td>2017-06-30</td>\n",
       "    </tr>\n",
       "    <tr>\n",
       "      <th>8</th>\n",
       "      <td>Iran Nuclear Deal and Sanctions (2015-2018)</td>\n",
       "      <td>2015-07-14</td>\n",
       "      <td>2018-05-07</td>\n",
       "    </tr>\n",
       "    <tr>\n",
       "      <th>9</th>\n",
       "      <td>COVID-19 Pandemic (2020)</td>\n",
       "      <td>2020-03-11</td>\n",
       "      <td>2022-09-30</td>\n",
       "    </tr>\n",
       "    <tr>\n",
       "      <th>10</th>\n",
       "      <td>OPEC+ Response to COVID-19 (2020)</td>\n",
       "      <td>2020-04-09</td>\n",
       "      <td>2020-12-31</td>\n",
       "    </tr>\n",
       "    <tr>\n",
       "      <th>11</th>\n",
       "      <td>Russia-Ukraine Conflict (2022)</td>\n",
       "      <td>2022-02-24</td>\n",
       "      <td>2022-09-30</td>\n",
       "    </tr>\n",
       "    <tr>\n",
       "      <th>12</th>\n",
       "      <td>Global Economic Recovery (2021-2022)</td>\n",
       "      <td>2021-01-01</td>\n",
       "      <td>2022-09-30</td>\n",
       "    </tr>\n",
       "  </tbody>\n",
       "</table>\n",
       "</div>"
      ],
      "text/plain": [
       "                                          Event      Start        End\n",
       "0                          Gulf War (1990-1991) 1990-08-02 1991-02-28\n",
       "1                   September 11 Attacks (2001) 2001-09-11 2001-09-11\n",
       "2                         2003 Invasion of Iraq 2003-03-20 2011-12-18\n",
       "3                         2008 Financial Crisis 2008-09-15 2009-07-01\n",
       "4                       Arab Spring (2010-2012) 2010-12-18 2012-12-18\n",
       "5                       Libyan Civil War (2011) 2011-02-15 2011-10-23\n",
       "6                   U.S. Shale Oil Boom (2010s) 2010-01-01 2019-12-31\n",
       "7              OPEC Production Cuts (2016-2017) 2016-11-30 2017-06-30\n",
       "8   Iran Nuclear Deal and Sanctions (2015-2018) 2015-07-14 2018-05-07\n",
       "9                      COVID-19 Pandemic (2020) 2020-03-11 2022-09-30\n",
       "10            OPEC+ Response to COVID-19 (2020) 2020-04-09 2020-12-31\n",
       "11               Russia-Ukraine Conflict (2022) 2022-02-24 2022-09-30\n",
       "12         Global Economic Recovery (2021-2022) 2021-01-01 2022-09-30"
      ]
     },
     "execution_count": 6,
     "metadata": {},
     "output_type": "execute_result"
    }
   ],
   "source": [
    "events_data"
   ]
  },
  {
   "cell_type": "markdown",
   "metadata": {},
   "source": [
    "# Combine the Price Data with Event Data"
   ]
  },
  {
   "cell_type": "code",
   "execution_count": 7,
   "metadata": {},
   "outputs": [
    {
     "name": "stderr",
     "output_type": "stream",
     "text": [
      "/tmp/ipykernel_39689/762178135.py:25: FutureWarning: A value is trying to be set on a copy of a DataFrame or Series through chained assignment using an inplace method.\n",
      "The behavior will change in pandas 3.0. This inplace method will never work because the intermediate object on which we are setting values always behaves as a copy.\n",
      "\n",
      "For example, when doing 'df[col].method(value, inplace=True)', try using 'df.method({col: value}, inplace=True)' or df[col] = df[col].method(value) instead, to perform the operation inplace on the original object.\n",
      "\n",
      "\n",
      "  price_data['Event'].fillna('No Event', inplace=True)\n"
     ]
    }
   ],
   "source": [
    "\n",
    "def merge_event(events_data: pd.DataFrame, price_data: pd.DataFrame) -> pd.DataFrame:\n",
    "    # Ensure Date, Start, and End columns are in datetime format\n",
    "    price_data['Date'] = pd.to_datetime(price_data['Date'])\n",
    "    events_data['Start'] = pd.to_datetime(events_data['Start'])\n",
    "    events_data['End'] = pd.to_datetime(events_data['End'])\n",
    "\n",
    "    # Create a DataFrame that contains each price date with corresponding events\n",
    "    events_expanded = pd.DataFrame({\n",
    "        'Date': pd.date_range(start=events_data['Start'].min(), end=events_data['End'].max(), freq='D')\n",
    "    })\n",
    "\n",
    "    # Merge the expanded events data with events_data to assign event names\n",
    "    merged_data = pd.merge_asof(\n",
    "        events_expanded.sort_values('Date'), \n",
    "        events_data.sort_values('Start'), \n",
    "        left_on='Date', \n",
    "        right_on='Start', \n",
    "        direction='backward'\n",
    "    )\n",
    "\n",
    "    # Merge the price data with the merged event data\n",
    "    price_data = price_data.merge(merged_data[['Date', 'Event']], on='Date', how='left')\n",
    "\n",
    "    # Fill the 'Event' column with 'No Event' where there is no match\n",
    "    price_data['Event'].fillna('No Event', inplace=True)\n",
    "\n",
    "    return price_data\n",
    "\n",
    "\n",
    "# Apply the function to merge events to each price date\n",
    "price_data = merge_event(events_data, price_data)"
   ]
  },
  {
   "cell_type": "code",
   "execution_count": 8,
   "metadata": {},
   "outputs": [
    {
     "data": {
      "text/html": [
       "<div>\n",
       "<style scoped>\n",
       "    .dataframe tbody tr th:only-of-type {\n",
       "        vertical-align: middle;\n",
       "    }\n",
       "\n",
       "    .dataframe tbody tr th {\n",
       "        vertical-align: top;\n",
       "    }\n",
       "\n",
       "    .dataframe thead th {\n",
       "        text-align: right;\n",
       "    }\n",
       "</style>\n",
       "<table border=\"1\" class=\"dataframe\">\n",
       "  <thead>\n",
       "    <tr style=\"text-align: right;\">\n",
       "      <th></th>\n",
       "      <th>Date</th>\n",
       "      <th>Price</th>\n",
       "      <th>Event</th>\n",
       "    </tr>\n",
       "  </thead>\n",
       "  <tbody>\n",
       "    <tr>\n",
       "      <th>0</th>\n",
       "      <td>1987-05-20</td>\n",
       "      <td>18.63</td>\n",
       "      <td>No Event</td>\n",
       "    </tr>\n",
       "    <tr>\n",
       "      <th>1</th>\n",
       "      <td>1987-05-21</td>\n",
       "      <td>18.45</td>\n",
       "      <td>No Event</td>\n",
       "    </tr>\n",
       "    <tr>\n",
       "      <th>2</th>\n",
       "      <td>1987-05-22</td>\n",
       "      <td>18.55</td>\n",
       "      <td>No Event</td>\n",
       "    </tr>\n",
       "    <tr>\n",
       "      <th>3</th>\n",
       "      <td>1987-05-25</td>\n",
       "      <td>18.60</td>\n",
       "      <td>No Event</td>\n",
       "    </tr>\n",
       "    <tr>\n",
       "      <th>4</th>\n",
       "      <td>1987-05-26</td>\n",
       "      <td>18.63</td>\n",
       "      <td>No Event</td>\n",
       "    </tr>\n",
       "    <tr>\n",
       "      <th>5</th>\n",
       "      <td>1987-05-27</td>\n",
       "      <td>18.60</td>\n",
       "      <td>No Event</td>\n",
       "    </tr>\n",
       "    <tr>\n",
       "      <th>6</th>\n",
       "      <td>1987-05-28</td>\n",
       "      <td>18.60</td>\n",
       "      <td>No Event</td>\n",
       "    </tr>\n",
       "    <tr>\n",
       "      <th>7</th>\n",
       "      <td>1987-05-29</td>\n",
       "      <td>18.58</td>\n",
       "      <td>No Event</td>\n",
       "    </tr>\n",
       "    <tr>\n",
       "      <th>8</th>\n",
       "      <td>1987-06-01</td>\n",
       "      <td>18.65</td>\n",
       "      <td>No Event</td>\n",
       "    </tr>\n",
       "    <tr>\n",
       "      <th>9</th>\n",
       "      <td>1987-06-02</td>\n",
       "      <td>18.68</td>\n",
       "      <td>No Event</td>\n",
       "    </tr>\n",
       "  </tbody>\n",
       "</table>\n",
       "</div>"
      ],
      "text/plain": [
       "        Date  Price     Event\n",
       "0 1987-05-20  18.63  No Event\n",
       "1 1987-05-21  18.45  No Event\n",
       "2 1987-05-22  18.55  No Event\n",
       "3 1987-05-25  18.60  No Event\n",
       "4 1987-05-26  18.63  No Event\n",
       "5 1987-05-27  18.60  No Event\n",
       "6 1987-05-28  18.60  No Event\n",
       "7 1987-05-29  18.58  No Event\n",
       "8 1987-06-01  18.65  No Event\n",
       "9 1987-06-02  18.68  No Event"
      ]
     },
     "execution_count": 8,
     "metadata": {},
     "output_type": "execute_result"
    }
   ],
   "source": [
    "# Now price_data contains the original price data along with the corresponding events\n",
    "price_data.head(10)"
   ]
  },
  {
   "cell_type": "code",
   "execution_count": 9,
   "metadata": {},
   "outputs": [
    {
     "data": {
      "text/html": [
       "<div>\n",
       "<style scoped>\n",
       "    .dataframe tbody tr th:only-of-type {\n",
       "        vertical-align: middle;\n",
       "    }\n",
       "\n",
       "    .dataframe tbody tr th {\n",
       "        vertical-align: top;\n",
       "    }\n",
       "\n",
       "    .dataframe thead th {\n",
       "        text-align: right;\n",
       "    }\n",
       "</style>\n",
       "<table border=\"1\" class=\"dataframe\">\n",
       "  <thead>\n",
       "    <tr style=\"text-align: right;\">\n",
       "      <th></th>\n",
       "      <th>Date</th>\n",
       "      <th>Price</th>\n",
       "      <th>Event</th>\n",
       "    </tr>\n",
       "  </thead>\n",
       "  <tbody>\n",
       "    <tr>\n",
       "      <th>8011</th>\n",
       "      <td>2018-12-07</td>\n",
       "      <td>61.71</td>\n",
       "      <td>OPEC Production Cuts (2016-2017)</td>\n",
       "    </tr>\n",
       "    <tr>\n",
       "      <th>8012</th>\n",
       "      <td>2018-12-10</td>\n",
       "      <td>60.29</td>\n",
       "      <td>OPEC Production Cuts (2016-2017)</td>\n",
       "    </tr>\n",
       "    <tr>\n",
       "      <th>8013</th>\n",
       "      <td>2018-12-11</td>\n",
       "      <td>59.73</td>\n",
       "      <td>OPEC Production Cuts (2016-2017)</td>\n",
       "    </tr>\n",
       "    <tr>\n",
       "      <th>8014</th>\n",
       "      <td>2018-12-12</td>\n",
       "      <td>59.94</td>\n",
       "      <td>OPEC Production Cuts (2016-2017)</td>\n",
       "    </tr>\n",
       "    <tr>\n",
       "      <th>8015</th>\n",
       "      <td>2018-12-13</td>\n",
       "      <td>59.03</td>\n",
       "      <td>OPEC Production Cuts (2016-2017)</td>\n",
       "    </tr>\n",
       "    <tr>\n",
       "      <th>8016</th>\n",
       "      <td>2018-12-14</td>\n",
       "      <td>58.56</td>\n",
       "      <td>OPEC Production Cuts (2016-2017)</td>\n",
       "    </tr>\n",
       "    <tr>\n",
       "      <th>8017</th>\n",
       "      <td>2018-12-17</td>\n",
       "      <td>57.59</td>\n",
       "      <td>OPEC Production Cuts (2016-2017)</td>\n",
       "    </tr>\n",
       "    <tr>\n",
       "      <th>8018</th>\n",
       "      <td>2018-12-18</td>\n",
       "      <td>55.26</td>\n",
       "      <td>OPEC Production Cuts (2016-2017)</td>\n",
       "    </tr>\n",
       "    <tr>\n",
       "      <th>8019</th>\n",
       "      <td>2018-12-19</td>\n",
       "      <td>55.60</td>\n",
       "      <td>OPEC Production Cuts (2016-2017)</td>\n",
       "    </tr>\n",
       "    <tr>\n",
       "      <th>8020</th>\n",
       "      <td>2018-12-20</td>\n",
       "      <td>52.84</td>\n",
       "      <td>OPEC Production Cuts (2016-2017)</td>\n",
       "    </tr>\n",
       "  </tbody>\n",
       "</table>\n",
       "</div>"
      ],
      "text/plain": [
       "           Date  Price                             Event\n",
       "8011 2018-12-07  61.71  OPEC Production Cuts (2016-2017)\n",
       "8012 2018-12-10  60.29  OPEC Production Cuts (2016-2017)\n",
       "8013 2018-12-11  59.73  OPEC Production Cuts (2016-2017)\n",
       "8014 2018-12-12  59.94  OPEC Production Cuts (2016-2017)\n",
       "8015 2018-12-13  59.03  OPEC Production Cuts (2016-2017)\n",
       "8016 2018-12-14  58.56  OPEC Production Cuts (2016-2017)\n",
       "8017 2018-12-17  57.59  OPEC Production Cuts (2016-2017)\n",
       "8018 2018-12-18  55.26  OPEC Production Cuts (2016-2017)\n",
       "8019 2018-12-19  55.60  OPEC Production Cuts (2016-2017)\n",
       "8020 2018-12-20  52.84  OPEC Production Cuts (2016-2017)"
      ]
     },
     "execution_count": 9,
     "metadata": {},
     "output_type": "execute_result"
    }
   ],
   "source": [
    "price_data.iloc[8011:8021]"
   ]
  },
  {
   "cell_type": "markdown",
   "metadata": {},
   "source": [
    "# Data Cleaning and Preprocessing"
   ]
  },
  {
   "cell_type": "markdown",
   "metadata": {},
   "source": [
    "# ===> Inspect the dataset for completeness and structure"
   ]
  },
  {
   "cell_type": "code",
   "execution_count": 10,
   "metadata": {},
   "outputs": [
    {
     "name": "stdout",
     "output_type": "stream",
     "text": [
      "Dimensions (rows, columns): (9011, 3)\n",
      "\n",
      "Data Types:\n",
      "Date     datetime64[ns]\n",
      "Price           float64\n",
      "Event            object\n",
      "dtype: object\n",
      "\n",
      "No missing values found.\n",
      "\n",
      "Unique Values in Each Column:\n",
      "Date     9011\n",
      "Price    5015\n",
      "Event      14\n",
      "dtype: int64\n",
      "Number of duplicate rows: 0\n",
      "\n",
      "Summary Statistics for Numeric Columns:\n"
     ]
    },
    {
     "data": {
      "text/html": [
       "<div>\n",
       "<style scoped>\n",
       "    .dataframe tbody tr th:only-of-type {\n",
       "        vertical-align: middle;\n",
       "    }\n",
       "\n",
       "    .dataframe tbody tr th {\n",
       "        vertical-align: top;\n",
       "    }\n",
       "\n",
       "    .dataframe thead th {\n",
       "        text-align: right;\n",
       "    }\n",
       "</style>\n",
       "<table border=\"1\" class=\"dataframe\">\n",
       "  <thead>\n",
       "    <tr style=\"text-align: right;\">\n",
       "      <th></th>\n",
       "      <th>Price</th>\n",
       "    </tr>\n",
       "  </thead>\n",
       "  <tbody>\n",
       "    <tr>\n",
       "      <th>count</th>\n",
       "      <td>9011.000000</td>\n",
       "    </tr>\n",
       "    <tr>\n",
       "      <th>mean</th>\n",
       "      <td>48.420782</td>\n",
       "    </tr>\n",
       "    <tr>\n",
       "      <th>std</th>\n",
       "      <td>32.860110</td>\n",
       "    </tr>\n",
       "    <tr>\n",
       "      <th>min</th>\n",
       "      <td>9.100000</td>\n",
       "    </tr>\n",
       "    <tr>\n",
       "      <th>25%</th>\n",
       "      <td>19.050000</td>\n",
       "    </tr>\n",
       "    <tr>\n",
       "      <th>50%</th>\n",
       "      <td>38.570000</td>\n",
       "    </tr>\n",
       "    <tr>\n",
       "      <th>75%</th>\n",
       "      <td>70.090000</td>\n",
       "    </tr>\n",
       "    <tr>\n",
       "      <th>max</th>\n",
       "      <td>143.950000</td>\n",
       "    </tr>\n",
       "  </tbody>\n",
       "</table>\n",
       "</div>"
      ],
      "text/plain": [
       "             Price\n",
       "count  9011.000000\n",
       "mean     48.420782\n",
       "std      32.860110\n",
       "min       9.100000\n",
       "25%      19.050000\n",
       "50%      38.570000\n",
       "75%      70.090000\n",
       "max     143.950000"
      ]
     },
     "metadata": {},
     "output_type": "display_data"
    }
   ],
   "source": [
    "processor.inspect(price_data)"
   ]
  },
  {
   "cell_type": "markdown",
   "metadata": {},
   "source": [
    "# Detect Outliers"
   ]
  },
  {
   "cell_type": "markdown",
   "metadata": {},
   "source": [
    "# ===> Box plot"
   ]
  },
  {
   "cell_type": "code",
   "execution_count": 11,
   "metadata": {},
   "outputs": [
    {
     "data": {
      "image/png": "[encoded data removed]",
      "text/plain": [
       "<Figure size 640x480 with 1 Axes>"
      ]
     },
     "metadata": {},
     "output_type": "display_data"
    }
   ],
   "source": [
    "# Assuming 'price_data' is your DataFrame containing the 'Price' column\n",
    "sns.boxplot(data=price_data, y='Price')\n",
    "plt.title('Box Plot of Brent Oil Prices')\n",
    "plt.ylabel('Price (USD per barrel)')\n",
    "plt.show()"
   ]
  },
  {
   "cell_type": "markdown",
   "metadata": {},
   "source": [
    "# Exploratory Data Analysis"
   ]
  },
  {
   "cell_type": "markdown",
   "metadata": {},
   "source": [
    "# ===> Descriptive Statistics"
   ]
  },
  {
   "cell_type": "code",
   "execution_count": 12,
   "metadata": {},
   "outputs": [
    {
     "data": {
      "image/png": "[encoded data removed]",
      "text/plain": [
       "<Figure size 1000x400 with 1 Axes>"
      ]
     },
     "metadata": {},
     "output_type": "display_data"
    }
   ],
   "source": [
    "# Visualize the price distribution\n",
    "plt.figure(figsize=(10, 4))\n",
    "sns.histplot(price_data['Price'], bins=30, kde=True)\n",
    "plt.title('Price Distribution')\n",
    "plt.xlabel('Price (USD per barrel)')\n",
    "plt.ylabel('Frequency')\n",
    "plt.show()"
   ]
  }
 ],
 "metadata": {
  "kernelspec": {
   "display_name": ".env",
   "language": "python",
   "name": "python3"
  },
  "language_info": {
   "codemirror_mode": {
    "name": "ipython",
    "version": 3
   },
   "file_extension": ".py",
   "mimetype": "text/x-python",
   "name": "python",
   "nbconvert_exporter": "python",
   "pygments_lexer": "ipython3",
   "version": "3.12.3"
  }
 },
 "nbformat": 4,
 "nbformat_minor": 2
}
